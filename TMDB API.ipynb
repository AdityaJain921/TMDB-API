{
 "cells": [
  {
   "cell_type": "code",
   "execution_count": 3,
   "id": "d2af7910",
   "metadata": {},
   "outputs": [],
   "source": [
    "import requests\n",
    "import json\n",
    "api_key = \"b58723e823c3a04d97a9fc28d798fb84\"\n",
    "api_link = \"https://api.themoviedb.org/3\"\n",
    "header = {\"accept\" : \"application/json\"}"
   ]
  },
  {
   "cell_type": "code",
   "execution_count": 32,
   "id": "67499a29",
   "metadata": {},
   "outputs": [],
   "source": [
    "# TMDb 1.1\n",
    "# Send Feedback\n",
    "# Find the 'id' of the movie \"Andhadhun\" using TMDb API.\n",
    "# Output Format:\n",
    "# Print the id of the movie."
   ]
  },
  {
   "cell_type": "code",
   "execution_count": 33,
   "id": "ff395025",
   "metadata": {},
   "outputs": [
    {
     "name": "stdout",
     "output_type": "stream",
     "text": [
      "534780\n"
     ]
    }
   ],
   "source": [
    "response = requests.get(api_link + '/search/movie', params = {\"query\" : \"Andhadhun\", \"api_key\" : api_key}, headers = header).json()\n",
    "result = response[\"results\"]\n",
    "for i in result:\n",
    "    print(i[\"id\"])"
   ]
  },
  {
   "cell_type": "code",
   "execution_count": 34,
   "id": "dba70069",
   "metadata": {},
   "outputs": [],
   "source": [
    "# Fetch the company id company 'Marvel Studios' using TMDb. Print the id."
   ]
  },
  {
   "cell_type": "code",
   "execution_count": 43,
   "id": "dea013f0",
   "metadata": {},
   "outputs": [
    {
     "name": "stdout",
     "output_type": "stream",
     "text": [
      "420\n"
     ]
    }
   ],
   "source": [
    "r = requests.get(api_link + \"/search/company\", params = {\"query\" : \"Marvel Studios\", \"api_key\" : api_key}, headers = header).json()\n",
    "# print(r)\n",
    "result = r[\"results\"][0]\n",
    "print(result[\"id\"])"
   ]
  },
  {
   "cell_type": "code",
   "execution_count": 44,
   "id": "b95dc627",
   "metadata": {},
   "outputs": [],
   "source": [
    "# TMDb 1.3\n",
    "# Send Feedback\n",
    "# Find the vote count and vote average of the movie \"3 Idiots\" using the TMDb API\n",
    "# Output format: Vote Count , Vote Average"
   ]
  },
  {
   "cell_type": "code",
   "execution_count": 48,
   "id": "05acef44",
   "metadata": {},
   "outputs": [
    {
     "name": "stdout",
     "output_type": "stream",
     "text": [
      "{'page': 1, 'results': [{'adult': False, 'backdrop_path': '/u7kuUaySqXBVAtqEl9vkTkAzHV9.jpg', 'genre_ids': [18, 35], 'id': 20453, 'original_language': 'hi', 'original_title': '3 Idiots', 'overview': 'Rascal. Joker. Dreamer. Genius... You\\'ve never met a college student quite like \"Rancho.\" From the moment he arrives at India\\'s most prestigious university, Rancho\\'s outlandish schemes turn the campus upside down—along with the lives of his two newfound best friends. Together, they make life miserable for \"Virus,\" the school’s uptight and heartless dean. But when Rancho catches the eye of the dean\\'s sexy daughter, Virus sets his sights on flunking out the \"3 idiots\" once and for all.', 'popularity': 25.017, 'poster_path': '/66A9MqXOyVFCssoloscw79z8Tew.jpg', 'release_date': '2009-12-23', 'title': '3 Idiots', 'video': False, 'vote_average': 7.985, 'vote_count': 2078}], 'total_pages': 1, 'total_results': 1}\n",
      "2078 7.985\n"
     ]
    }
   ],
   "source": [
    "r = requests.get(api_link + \"/search/movie\", params = {\"query\" : \"3 Idiots\", \"api_key\" : api_key}, headers = header).json()\n",
    "print(r)\n",
    "for i in r[\"results\"]:\n",
    "    print(i[\"vote_count\"], i[\"vote_average\"])"
   ]
  },
  {
   "cell_type": "code",
   "execution_count": 49,
   "id": "2ae64a24",
   "metadata": {},
   "outputs": [],
   "source": [
    "# TMDb 1.4\n",
    "# Send Feedback\n",
    "# Fetch the names of top 5 similar movies to 'Inception' from the TMDb API.\n",
    "# Note\n",
    "# While fetching the movie id, use the \"original_title\" field not the \"title\". Because the \"title\" field may contain duplicate values.\n",
    "# Output Format:\n",
    "# Print the name of the movies in a new line.\n",
    "# movie_name_1\n",
    "# movie_name_2\n",
    "# and so on"
   ]
  },
  {
   "cell_type": "code",
   "execution_count": 71,
   "id": "a0a98a6b",
   "metadata": {},
   "outputs": [
    {
     "name": "stdout",
     "output_type": "stream",
     "text": [
      "27205\n",
      "Confidential Assignment\n",
      "Police Story\n",
      "Spies Like Us\n",
      "Waking Life\n",
      "Hot Shots! Part Deux\n"
     ]
    }
   ],
   "source": [
    "r = requests.get(api_link + \"/search/movie\", params = {\"query\" : \"Inception\", \"api_key\" : api_key}, headers = header).json()\n",
    "# print(r)\n",
    "for i in r[\"results\"]:\n",
    "    if i[\"original_title\"] == \"Inception\":\n",
    "        movie_id = i[\"id\"]\n",
    "print(movie_id)\n",
    "res = requests.get(api_link + f\"/movie/{movie_id}/similar\", params = {\"api_key\" : api_key}, headers = header).json()\n",
    "for i in similar_movies[\"results\"][:5]:\n",
    "    print(i[\"title\"])\n"
   ]
  },
  {
   "cell_type": "code",
   "execution_count": 1,
   "id": "199a3d09",
   "metadata": {},
   "outputs": [],
   "source": [
    "# TMDb 1.5\n",
    "# Send Feedback\n",
    "# Fetch the top rated english movies in the US region using the TMDb API. From the result, print the first 10 movies which have original language as english. Also print their genres.\n",
    "# Note: Do not use the search/movies API for finding genres.\n",
    "# Output Format:\n",
    "# movie_name_1 - genre_1, genre_2 ....\n",
    "# and so on.."
   ]
  },
  {
   "cell_type": "code",
   "execution_count": 21,
   "id": "b10758af",
   "metadata": {},
   "outputs": [
    {
     "name": "stdout",
     "output_type": "stream",
     "text": [
      "The Godfather-Drama, Crime, \n",
      "The Shawshank Redemption-Drama, Crime, \n",
      "The Godfather Part II-Drama, Crime, \n",
      "Schindler's List-Drama, History, War, \n",
      "12 Angry Men-Drama, \n",
      "The Dark Knight-Drama, Action, Crime, Thriller, \n",
      "The Green Mile-Fantasy, Drama, Crime, \n",
      "Pulp Fiction-Thriller, Crime, \n",
      "Forrest Gump-Comedy, Drama, Romance, \n",
      "The Lord of the Rings: The Return of the King-Adventure, Fantasy, Action, \n",
      "GoodFellas-Drama, Crime, \n",
      "The Boy, the Mole, the Fox and the Horse-Animation, Family, Adventure, Fantasy, \n",
      "Primal: Tales of Savagery-Action, Adventure, Animation, Drama, \n"
     ]
    }
   ],
   "source": [
    "r = requests.get(api_link + \"/movie/top_rated\", params = {\"api_key\" : api_key}, headers =header).json()\n",
    "results = r.get(\"results\")\n",
    "# print(results)\n",
    "r1 = requests.get(api_link + \"/genre/movie/list\", params = {\"api_key\" : api_key}, headers =header).json()\n",
    "# print(r1)\n",
    "for i in results:\n",
    "    if i[\"original_language\"] == \"en\":\n",
    "        print(i[\"original_title\"], end = \"-\")\n",
    "        for genre_id in i[\"genre_ids\"]:\n",
    "            for value in r1[\"genres\"]:\n",
    "                if genre_id == value[\"id\"]:\n",
    "                    print(value[\"name\"], end = \", \")\n",
    "        print()\n",
    "            "
   ]
  },
  {
   "cell_type": "code",
   "execution_count": 25,
   "id": "e081dda3",
   "metadata": {},
   "outputs": [],
   "source": [
    "# TMDb 2.2\n",
    "# Send Feedback\n",
    "# Fetch the Instagram and Twitter handle of Indian Actress \"Alia Bhatt\" from the TMDb API.\n",
    "# Output Format\n",
    "# Print the Instagram and Twitter IDs space separated.\n",
    "# instagram_id twitter_id"
   ]
  },
  {
   "cell_type": "code",
   "execution_count": 31,
   "id": "d10ae66e",
   "metadata": {},
   "outputs": [
    {
     "name": "stdout",
     "output_type": "stream",
     "text": [
      "aliaabhatt Aliaa08\n"
     ]
    }
   ],
   "source": [
    "r = requests.get(api_link + \"/search/person\", params = {\"query\" : \"Alia Bhatt\", \"api_key\" : api_key}, headers =header).json()\n",
    "alia_id = r[\"results\"][0][\"id\"]\n",
    "r1 = requests.get(api_link + f\"/person/{alia_id}/external_ids\", params = {\"api_key\" : api_key}, headers =header).json()\n",
    "# print(r1)\n",
    "print(r1[\"instagram_id\"], r1[\"twitter_id\"])\n",
    "\n"
   ]
  },
  {
   "cell_type": "code",
   "execution_count": 32,
   "id": "d5667f14",
   "metadata": {},
   "outputs": [],
   "source": [
    "# TMDb 2.4\n",
    "# Send Feedback\n",
    "# Did James McAvoy play a role in the movie Deadpool 2. Print Yes or No."
   ]
  },
  {
   "cell_type": "code",
   "execution_count": 43,
   "id": "9fb06498",
   "metadata": {},
   "outputs": [
    {
     "name": "stdout",
     "output_type": "stream",
     "text": [
      "true\n"
     ]
    }
   ],
   "source": [
    "r = requests.get(api_link + \"/search/person\", params = {\"query\" : \"James McAvoy\", \"api_key\" : api_key}, headers =header).json()\n",
    "id = r[\"results\"][0][\"id\"]\n",
    "r1 = requests.get(api_link + f\"/person/{id}/movie_credits\", params = {\"api_key\" : api_key}, headers =header).json()\n",
    "# print(r1)\n",
    "movies = r1[\"cast\"]\n",
    "flag = False\n",
    "for details in movies:\n",
    "    if details[\"original_title\"] == \"Deadpool 2\":\n",
    "        flag = True\n",
    "        break\n",
    "if flag == True:\n",
    "    print(\"true\")\n",
    "else:\n",
    "    print(\"false\")"
   ]
  },
  {
   "cell_type": "code",
   "execution_count": 44,
   "id": "7f2a554b",
   "metadata": {},
   "outputs": [],
   "source": [
    "# TMDb 3.1\n",
    "# Send Feedback\n",
    "# Fetch the overview of the TV Show \"FRIENDS\" using TMDb API.\n",
    "# Output Format:\n",
    "# Print the Overview."
   ]
  },
  {
   "cell_type": "code",
   "execution_count": 48,
   "id": "75666d1e",
   "metadata": {},
   "outputs": [
    {
     "name": "stdout",
     "output_type": "stream",
     "text": [
      "Six young people from New York City, on their own and struggling to survive in the real world, find the companionship, comfort and support they get from each other to be the perfect antidote to the pressures of life.\n"
     ]
    }
   ],
   "source": [
    "r = requests.get(api_link + \"/search/tv\", params = {\"query\" : \"FRIENDS\", \"api_key\" : api_key}, headers =header).json()\n",
    "print(r[\"results\"][0][\"overview\"])"
   ]
  },
  {
   "cell_type": "code",
   "execution_count": 49,
   "id": "33485580",
   "metadata": {},
   "outputs": [],
   "source": [
    "# TMDb 3.2\n",
    "# Send Feedback\n",
    "# Fetch the name and air date of S06E05 of the TV Show 'The Big Bang Theory' from TMDb API.\n",
    "# Output Format:\n",
    "# episode_name - air_date"
   ]
  },
  {
   "cell_type": "code",
   "execution_count": 55,
   "id": "f652b6cc",
   "metadata": {},
   "outputs": [
    {
     "name": "stdout",
     "output_type": "stream",
     "text": [
      "The Holographic Excitation 2012-10-25\n"
     ]
    }
   ],
   "source": [
    "r = requests.get(api_link + \"/search/tv\", params = {\"query\" : \"Big Bang Theory\", \"api_key\" : api_key}, headers =header).json()\n",
    "id = r[\"results\"][0][\"id\"]\n",
    "r1 = requests.get(api_link + f\"/tv/{id}/season/06/episode/05\", params = {\"api_key\" : api_key}, headers =header).json()\n",
    "# print(r1)\n",
    "print(r1[\"name\"], r1[\"air_date\"])\n",
    "\n"
   ]
  },
  {
   "cell_type": "code",
   "execution_count": null,
   "id": "bacac6de",
   "metadata": {},
   "outputs": [],
   "source": []
  }
 ],
 "metadata": {
  "kernelspec": {
   "display_name": "Python 3 (ipykernel)",
   "language": "python",
   "name": "python3"
  },
  "language_info": {
   "codemirror_mode": {
    "name": "ipython",
    "version": 3
   },
   "file_extension": ".py",
   "mimetype": "text/x-python",
   "name": "python",
   "nbconvert_exporter": "python",
   "pygments_lexer": "ipython3",
   "version": "3.9.5"
  }
 },
 "nbformat": 4,
 "nbformat_minor": 5
}
